{
 "cells": [
  {
   "cell_type": "markdown",
   "metadata": {},
   "source": [
    "#### Unzip dataset folder"
   ]
  },
  {
   "cell_type": "code",
   "execution_count": 1,
   "metadata": {},
   "outputs": [
    {
     "name": "stdout",
     "output_type": "stream",
     "text": [
      "Files extracted to D:/RESEARCH/BCI\n"
     ]
    }
   ],
   "source": [
    "import zipfile\n",
    "\n",
    "# Specify the zip file path and the output directory\n",
    "zip_file_path = \"D:/RESEARCH/BCI/BCI_dataset.zip\" # This file contains 2000 pair images.\n",
    "output_dir = \"D:/RESEARCH/BCI\"\n",
    "\n",
    "# Open the zip file and extract its contents\n",
    "with zipfile.ZipFile(zip_file_path, 'r') as zip_ref:\n",
    "    zip_ref.extractall(output_dir)\n",
    "\n",
    "print(f\"Files extracted to {output_dir}\")\n"
   ]
  },
  {
   "cell_type": "markdown",
   "metadata": {},
   "source": [
    "#### Take a fraction of dataset to minimize the dataset size. This dataset is already paired."
   ]
  },
  {
   "cell_type": "code",
   "execution_count": 6,
   "metadata": {},
   "outputs": [],
   "source": [
    "import os\n",
    "import shutil\n",
    "import random"
   ]
  },
  {
   "cell_type": "code",
   "execution_count": 7,
   "metadata": {},
   "outputs": [
    {
     "name": "stdout",
     "output_type": "stream",
     "text": [
      "Modified dataset created with 1,000 pairs (2,000 images) in D:/RESEARCH/BCI/BCI_modified.\n",
      "Train: 800 pairs, Test: 200 pairs.\n"
     ]
    }
   ],
   "source": [
    "# Paths to the original dataset\n",
    "base_dir = \"D:/RESEARCH/BCI/BCI_dataset\"\n",
    "trainA_dir = os.path.join(base_dir, \"trainA\")\n",
    "trainB_dir = os.path.join(base_dir, \"trainB\")\n",
    "\n",
    "# Paths for the modified dataset\n",
    "modified_base_dir = \"D:/RESEARCH/BCI/BCI_modified\"\n",
    "modified_trainA_dir = os.path.join(modified_base_dir, \"trainA\")\n",
    "modified_trainB_dir = os.path.join(modified_base_dir, \"trainB\")\n",
    "modified_testA_dir = os.path.join(modified_base_dir, \"testA\")\n",
    "modified_testB_dir = os.path.join(modified_base_dir, \"testB\")\n",
    "\n",
    "# Create directories for the modified dataset\n",
    "os.makedirs(modified_trainA_dir, exist_ok=True)\n",
    "os.makedirs(modified_trainB_dir, exist_ok=True)\n",
    "os.makedirs(modified_testA_dir, exist_ok=True)\n",
    "os.makedirs(modified_testB_dir, exist_ok=True)\n",
    "\n",
    "# Get list of image pairs (ensure matching files in trainA and trainB)\n",
    "trainA_files = sorted(os.listdir(trainA_dir))\n",
    "trainB_files = sorted(os.listdir(trainB_dir))\n",
    "assert len(trainA_files) == len(trainB_files), \"Mismatch in trainA and trainB file counts.\"\n",
    "\n",
    "# Sample 1,000 pairs\n",
    "sample_size = 1000\n",
    "sample_indices = random.sample(range(len(trainA_files)), sample_size)\n",
    "\n",
    "# Split indices into 80% train and 20% test\n",
    "train_split = int(0.8 * sample_size)\n",
    "train_indices = sample_indices[:train_split]\n",
    "test_indices = sample_indices[train_split:]\n",
    "\n",
    "# Function to copy files to the new dataset\n",
    "def copy_files(indices, srcA, srcB, destA, destB):\n",
    "    for idx in indices:\n",
    "        fileA = trainA_files[idx]\n",
    "        fileB = trainB_files[idx]\n",
    "        shutil.copy(os.path.join(srcA, fileA), os.path.join(destA, fileA))\n",
    "        shutil.copy(os.path.join(srcB, fileB), os.path.join(destB, fileB))\n",
    "\n",
    "# Copy train and test files\n",
    "copy_files(train_indices, trainA_dir, trainB_dir, modified_trainA_dir, modified_trainB_dir)\n",
    "copy_files(test_indices, trainA_dir, trainB_dir, modified_testA_dir, modified_testB_dir)\n",
    "\n",
    "print(f\"Modified dataset created with 1,000 pairs (2,000 images) in {modified_base_dir}.\")\n",
    "print(f\"Train: {len(train_indices)} pairs, Test: {len(test_indices)} pairs.\")\n"
   ]
  }
 ],
 "metadata": {
  "kernelspec": {
   "display_name": "base",
   "language": "python",
   "name": "python3"
  },
  "language_info": {
   "codemirror_mode": {
    "name": "ipython",
    "version": 3
   },
   "file_extension": ".py",
   "mimetype": "text/x-python",
   "name": "python",
   "nbconvert_exporter": "python",
   "pygments_lexer": "ipython3",
   "version": "3.12.4"
  }
 },
 "nbformat": 4,
 "nbformat_minor": 2
}
